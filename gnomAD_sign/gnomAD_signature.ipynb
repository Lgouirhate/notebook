{
 "cells": [
  {
   "cell_type": "code",
   "execution_count": 101,
   "metadata": {},
   "outputs": [],
   "source": [
    "import vcf\n",
    "import pandas as pd\n",
    "import seaborn as sns\n",
    "import numpy as np\n",
    "import matplotlib.pyplot as plt\n",
    "import refgene_parser\n",
    "from pybedtools import BedTool\n",
    "import pyfaidx\n",
    "import csv\n",
    "\n",
    "from IPython.display import clear_output"
   ]
  },
  {
   "cell_type": "code",
   "execution_count": 83,
   "metadata": {
    "collapsed": true
   },
   "outputs": [],
   "source": [
    "gnomAD_path  = \"/home/sacha/Download/gnomad.genomes.r2.0.2.sites.chr20.vcf\"\n",
    "hg19_path    = \"/home/sacha/Linux_data/bioinfo/data/ucsc/hg19.fa\"\n",
    "refGene_path = \"/home/sacha/Linux_data/bioinfo/data/ucsc/hg19.farefGene.txt.gz\"\n",
    "bed_path     = \"/home/sacha/Linux_data/bioinfo/data/gnomAd_3mer.bed\"\n",
    "hg19         = pyfaidx.Fasta(hg19_path)"
   ]
  },
  {
   "cell_type": "markdown",
   "metadata": {},
   "source": [
    "## Function pour extraire le 3-mer encadrant un snps : ex: NpCpN"
   ]
  },
  {
   "cell_type": "code",
   "execution_count": 84,
   "metadata": {},
   "outputs": [],
   "source": [
    "def triplet(chrom,pos, margin = 1):\n",
    "        try:\n",
    "            region = hg19.get_seq(chrom,pos-margin, pos+margin)\n",
    "            return region.seq\n",
    "        except:\n",
    "            return 'NNN'"
   ]
  },
  {
   "cell_type": "markdown",
   "metadata": {},
   "source": [
    "## Parcours du VCF gnomAD pour récupérer uniquement les Snps"
   ]
  },
  {
   "cell_type": "code",
   "execution_count": 116,
   "metadata": {
    "scrolled": true
   },
   "outputs": [
    {
     "name": "stdout",
     "output_type": "stream",
     "text": [
      "progress   100.0954%"
     ]
    }
   ],
   "source": [
    "bedfile    = open(bed_path, 'w')\n",
    "csvwriter  = csv.writer(bedfile,delimiter=\"\\t\")\n",
    "total      = hg19.records[\"chr20\"].unpadded_len\n",
    "\n",
    "vcf_reader = vcf.Reader(open(gnomAD_path, 'r'))   \n",
    "for record in vcf_reader:\n",
    "    \n",
    "    if record.is_snp:\n",
    "        chrom       = \"chr\"+record.CHROM\n",
    "        kmer        = triplet(chrom,record.POS,1)\n",
    "        # vcf to bed is 1-based to 0-based\n",
    "        kmer_alt    = kmer[0] + str(record.ALT[0]) + kmer[2]\n",
    "        output      = [chrom, record.POS -2 , record.POS, kmer.upper(), kmer_alt.upper(),record.INFO['AF'][0]]\n",
    "        csvwriter.writerow(output)     \n",
    "        \n",
    "        clear_output(wait=True)\n",
    "        print(\"progress {0:10.4f}%\".format(record.POS / total * 100), end=\"\")\n",
    "        \n",
    "        \n",
    "    \n",
    "\n",
    "bedfile.close()"
   ]
  },
  {
   "cell_type": "code",
   "execution_count": 27,
   "metadata": {},
   "outputs": [
    {
     "data": {
      "text/plain": [
       "'NNNNN'"
      ]
     },
     "execution_count": 27,
     "metadata": {},
     "output_type": "execute_result"
    }
   ],
   "source": []
  },
  {
   "cell_type": "code",
   "execution_count": 62,
   "metadata": {
    "scrolled": true
   },
   "outputs": [
    {
     "ename": "NameError",
     "evalue": "name 'upper' is not defined",
     "output_type": "error",
     "traceback": [
      "\u001b[0;31m---------------------------------------------------------------------------\u001b[0m",
      "\u001b[0;31mNameError\u001b[0m                                 Traceback (most recent call last)",
      "\u001b[0;32m<ipython-input-62-d608748498d1>\u001b[0m in \u001b[0;36m<module>\u001b[0;34m()\u001b[0m\n\u001b[0;32m----> 1\u001b[0;31m \u001b[0mupper\u001b[0m\u001b[0;34m(\u001b[0m\u001b[0;34m'a'\u001b[0m\u001b[0;34m)\u001b[0m\u001b[0;34m\u001b[0m\u001b[0m\n\u001b[0m",
      "\u001b[0;31mNameError\u001b[0m: name 'upper' is not defined"
     ]
    }
   ],
   "source": []
  },
  {
   "cell_type": "code",
   "execution_count": 90,
   "metadata": {},
   "outputs": [],
   "source": [
    "a = hg19.records[\"chr20\"]"
   ]
  },
  {
   "cell_type": "code",
   "execution_count": 100,
   "metadata": {},
   "outputs": [
    {
     "data": {
      "text/plain": [
       "62905520"
      ]
     },
     "execution_count": 100,
     "metadata": {},
     "output_type": "execute_result"
    }
   ],
   "source": [
    "a.unpadded_len"
   ]
  },
  {
   "cell_type": "code",
   "execution_count": null,
   "metadata": {
    "collapsed": true
   },
   "outputs": [],
   "source": []
  }
 ],
 "metadata": {
  "kernelspec": {
   "display_name": "Python 3",
   "language": "python",
   "name": "python3"
  },
  "language_info": {
   "codemirror_mode": {
    "name": "ipython",
    "version": 3
   },
   "file_extension": ".py",
   "mimetype": "text/x-python",
   "name": "python",
   "nbconvert_exporter": "python",
   "pygments_lexer": "ipython3",
   "version": "3.6.2"
  }
 },
 "nbformat": 4,
 "nbformat_minor": 2
}
