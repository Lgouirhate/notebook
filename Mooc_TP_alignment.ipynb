{
  "nbformat": 4,
  "nbformat_minor": 0,
  "metadata": {
    "colab": {
      "name": "Mooc_TP_alignment.ipynb",
      "provenance": [],
      "toc_visible": true,
      "authorship_tag": "ABX9TyP8vHS1aOOObXxq651LSKpE",
      "include_colab_link": true
    },
    "kernelspec": {
      "name": "python3",
      "display_name": "Python 3"
    }
  },
  "cells": [
    {
      "cell_type": "markdown",
      "metadata": {
        "id": "view-in-github",
        "colab_type": "text"
      },
      "source": [
        "<a href=\"https://colab.research.google.com/github/dridk/notebook/blob/master/Mooc_TP_alignment.ipynb\" target=\"_parent\"><img src=\"https://colab.research.google.com/assets/colab-badge.svg\" alt=\"Open In Colab\"/></a>"
      ]
    },
    {
      "cell_type": "markdown",
      "metadata": {
        "id": "9kryWVJwOmxZ",
        "colab_type": "text"
      },
      "source": [
        "# TP Mooc \n",
        "\n",
        "Ce notebook vous guidera pas à pas, afin d'effectuer l'alignement des reads d'un fichier fastq sur un génome de réference et produire un fichier bam visualisable sur IGV.\n",
        "Pour réduire le temps de calcul, nous travaillerons sur le génome d'Escherichia coli en utilisant des reads générés in silico.\n",
        "\n",
        "## Comment utiliser ce notebook ? \n",
        "Ce notebook est composé de plusieurs cellules pouvant executant des lignes de commandes. Cliquer sur la cellule puis sur la flèche pour executer la commande.    \n",
        "A tout moment, vous pouvez voir vos fichier en cliquant dans la colonnes de gauche sur l'icone \"*dossier*\". N'hesitez pas à cliquer sur \"*actualiser*\" si vous ne voyez pas vos fichiers.\n",
        "\n"
      ]
    },
    {
      "cell_type": "markdown",
      "metadata": {
        "id": "tpbWzQJyP3ZR",
        "colab_type": "text"
      },
      "source": [
        "## Installation de l'environement de travail \n",
        "La cellule suivante permet de configurer un environement de travail en installant l'outil bwa et samtools.    \n",
        "Il n'est pas necessaire ici de comprendre les détails de ces commandes."
      ]
    },
    {
      "cell_type": "code",
      "metadata": {
        "id": "Gy-lUHkPMb6T",
        "colab_type": "code",
        "colab": {}
      },
      "source": [
        "!wget https://repo.continuum.io/miniconda/Miniconda3-4.5.4-Linux-x86_64.sh && bash Miniconda3-4.5.4-Linux-x86_64.sh -bfp /usr/local\n",
        "!conda config --add channels bioconda\n",
        "!conda install -y -q bwa samtools\n",
        "import sys\n",
        "sys.path.append('/usr/local/lib/python3.6/site-packages')"
      ],
      "execution_count": 0,
      "outputs": []
    },
    {
      "cell_type": "markdown",
      "metadata": {
        "id": "BR7-ahfNQVNf",
        "colab_type": "text"
      },
      "source": [
        "# Téléchargement du génome de référence\n",
        "\n",
        "Cette cellule télécharge un fichier fasta contenant le génome de référence de la bactérie E. coli.     \n",
        "Vous pouvez le télécharger sur votre ordinateur et l'ouvrir avec un editeur de texte en cliquant sur le lien ci-dessous   \n",
        "https://raw.githubusercontent.com/dridk/tp_snakemake/master/genom/ecoli.fa\n",
        "\n",
        "#### Question 1 : \n",
        "Combien de base contient ce génome ? "
      ]
    },
    {
      "cell_type": "code",
      "metadata": {
        "id": "LpM-xEvwMl-k",
        "colab_type": "code",
        "colab": {}
      },
      "source": [
        "!wget https://raw.githubusercontent.com/dridk/tp_snakemake/master/genom/ecoli.fa"
      ],
      "execution_count": 0,
      "outputs": []
    },
    {
      "cell_type": "markdown",
      "metadata": {
        "id": "TvS8YKpARHyS",
        "colab_type": "text"
      },
      "source": [
        "# Téléchargement du fichier fastq \n",
        "Ce fichier fastq contient les reads d'un séquençage d'E. coli.      \n",
        "Vous pouvez le télécharger sur votre ordinateur et l'ouvrir avec un editeur de texte. \n",
        "https://raw.githubusercontent.com/dridk/tp_snakemake/master/sample1.fastq\n",
        "\n",
        "#### Question 2 : \n",
        "Combien de reads contient ce fichier fastq ? "
      ]
    },
    {
      "cell_type": "code",
      "metadata": {
        "id": "Kuo08h5sM6ML",
        "colab_type": "code",
        "colab": {}
      },
      "source": [
        "!wget https://raw.githubusercontent.com/dridk/tp_snakemake/master/sample1.fastq"
      ],
      "execution_count": 0,
      "outputs": []
    },
    {
      "cell_type": "markdown",
      "metadata": {
        "id": "jpN7rB-JRqfd",
        "colab_type": "text"
      },
      "source": [
        "# Indexation du génome de référence \n",
        "En utilisant bwa, nous indexons le fichier ecoli.fa"
      ]
    },
    {
      "cell_type": "code",
      "metadata": {
        "id": "uS47NdkgN8EI",
        "colab_type": "code",
        "colab": {
          "base_uri": "https://localhost:8080/",
          "height": 173
        },
        "outputId": "8d0fcea8-0053-4591-c309-8fd6fb63a64c"
      },
      "source": [
        "!bwa index ecoli.fa "
      ],
      "execution_count": 17,
      "outputs": [
        {
          "output_type": "stream",
          "text": [
            "[bwa_index] Pack FASTA... 0.00 sec\n",
            "[bwa_index] Construct BWT for the packed sequence...\n",
            "[bwa_index] 0.00 seconds elapse.\n",
            "[bwa_index] Update BWT... 0.00 sec\n",
            "[bwa_index] Pack forward-only FASTA... 0.00 sec\n",
            "[bwa_index] Construct SA from BWT and Occ... 0.00 sec\n",
            "[main] Version: 0.7.17-r1188\n",
            "[main] CMD: bwa index ecoli.fa\n",
            "[main] Real time: 0.036 sec; CPU: 0.010 sec\n"
          ],
          "name": "stdout"
        }
      ]
    },
    {
      "cell_type": "markdown",
      "metadata": {
        "id": "v60UOUM4Rzhx",
        "colab_type": "text"
      },
      "source": [
        "# Alignement des reads\n",
        "Nous pouvons maintenant aligner le fichier fastq sur le génome ecoli.fa.\n",
        "Cette commande produit un fichier SAM, contenant les reads et leurs positions sur le génome. Après l'execution, vous pourez télécharger ce fichier.\n",
        "\n",
        "#### Question 3 :\n",
        "- Localiser dans ce fichier les reads et leurs positions."
      ]
    },
    {
      "cell_type": "code",
      "metadata": {
        "id": "Yegm9Qz7OF0e",
        "colab_type": "code",
        "colab": {
          "base_uri": "https://localhost:8080/",
          "height": 121
        },
        "outputId": "fc089c42-412d-4568-f258-9db5c15e14cc"
      },
      "source": [
        "!bwa mem ecoli.fa sample1.fastq > sample1.sam "
      ],
      "execution_count": 19,
      "outputs": [
        {
          "output_type": "stream",
          "text": [
            "[M::bwa_idx_load_from_disk] read 0 ALT contigs\n",
            "[M::process] read 1000 sequences (70000 bp)...\n",
            "[M::mem_process_seqs] Processed 1000 reads in 0.022 CPU sec, 0.022 real sec\n",
            "[main] Version: 0.7.17-r1188\n",
            "[main] CMD: bwa mem ecoli.fa sample1.fastq\n",
            "[main] Real time: 0.030 sec; CPU: 0.026 sec\n"
          ],
          "name": "stdout"
        }
      ]
    },
    {
      "cell_type": "markdown",
      "metadata": {
        "id": "fCAWgMnhSzGl",
        "colab_type": "text"
      },
      "source": [
        "# Transformation du fichier SAM en BAM \n",
        "Le fichier BAM est la forme binaire du fichier SAM, plus souvent utiliser par les autre outils. \n",
        "Les commande suivante transforme le fichier SAM en fichier BAM, le trie par ordre des positions et l'index pour créer un fichier sample1.bam.bai."
      ]
    },
    {
      "cell_type": "code",
      "metadata": {
        "colab_type": "code",
        "id": "o1GdpNsJTdSg",
        "colab": {}
      },
      "source": [
        "!samtools view -bS sample1.sam > sample1.unsorted.bam\n",
        "!samtools sort sample1.unsorted.bam > sample1.bam \n",
        "!samtools index sample1.bam"
      ],
      "execution_count": 0,
      "outputs": []
    },
    {
      "cell_type": "markdown",
      "metadata": {
        "id": "v2l9iPqjTfJR",
        "colab_type": "text"
      },
      "source": [
        "# Visualisation de l'alignement sur IGV\n",
        "## Télécharger IGV \n",
        "- Sur votre ordinateur télécharger IGV : https://software.broadinstitute.org/software/igv/download\n",
        "\n",
        "## Télécharger vos données\n",
        "Dans un même dossier : \n",
        "\n",
        "- Télécharger le fichier ecoli.fa\n",
        "- Télécharger le fichier sample1.bam \n",
        "- Télécharger le fichier sample1.bam.bai \n",
        "\n",
        "## Importer le génome de référence sur IGV\n",
        "Genome > Load Genome from File ...\n",
        "\n",
        "![import IGV](https://framapic.org/60dlPcfCjt79/DOh3aM1JoQe4.png)\n",
        "\n",
        "## Importer le fichier BAM\n",
        "File > Load from file\n",
        "![Texte alternatif…](https://framapic.org/bxmSHH5a6qQO/nqYSn1mo6oMP.png)\n",
        "\n",
        "## Visualiser les reads alignés \n",
        "\n",
        "![Texte alternatif…](https://framapic.org/Q82cZbvoYn5Q/xObfqulJABTK.png)\n",
        "\n",
        "\n",
        "#### Question 4 : \n",
        "- Voyez vous une mutation ? Si oui, à quel position ?\n",
        "\n"
      ]
    },
    {
      "cell_type": "code",
      "metadata": {
        "id": "VmrKrBavTQN8",
        "colab_type": "code",
        "colab": {}
      },
      "source": [
        ""
      ],
      "execution_count": 0,
      "outputs": []
    },
    {
      "cell_type": "code",
      "metadata": {
        "id": "IDT4Mpj_VASW",
        "colab_type": "code",
        "colab": {}
      },
      "source": [
        ""
      ],
      "execution_count": 0,
      "outputs": []
    }
  ]
}