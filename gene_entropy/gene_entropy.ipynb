{
 "cells": [
  {
   "cell_type": "code",
   "execution_count": 101,
   "metadata": {
    "collapsed": true
   },
   "outputs": [],
   "source": [
    "from pybedtools import BedTool, example_filename\n",
    "import math\n",
    "import numpy as np\n",
    "from Bio import  SeqIO\n",
    "from refgene_parser import RefGene"
   ]
  },
  {
   "cell_type": "code",
   "execution_count": 117,
   "metadata": {},
   "outputs": [
    {
     "name": "stdout",
     "output_type": "stream",
     "text": [
      "-0.0\n",
      "0.602059991328\n"
     ]
    }
   ],
   "source": [
    "def entropy(seq):\n",
    "    nseq = np.array(list(seq))\n",
    "    e    = []\n",
    "    for i in np.unique(nseq, return_counts=True)[1]:\n",
    "        p = float(i)/len(seq)\n",
    "        e.append(p * np.log10(p))\n",
    "    return -np.sum(e)\n",
    "\n",
    "print(entropy(\"TTTT\"))\n",
    "print(entropy(\"ACGT\"))"
   ]
  },
  {
   "cell_type": "code",
   "execution_count": 119,
   "metadata": {},
   "outputs": [
    {
     "name": "stdout",
     "output_type": "stream",
     "text": [
      "0.244219050288\n"
     ]
    }
   ],
   "source": [
    "def sequence(chrom,start,end):\n",
    "    hg19 = \"/home/sacha/Linux_data/bioinfo/data/hg19.fa\"\n",
    "    a = BedTool(\" \".join((chrom,str(start),str(end))), from_string=True)\n",
    "    a.sequence(fi=hg19)\n",
    "    record = SeqIO.read(a.seqfn,\"fasta\")\n",
    "    return record.seq\n",
    "\n",
    "print(entropy(sequence(\"chr1\",20767600,20767604)))"
   ]
  },
  {
   "cell_type": "code",
   "execution_count": 115,
   "metadata": {},
   "outputs": [],
   "source": [
    "def compute_gene_entropy(gene, window_size=50):\n",
    "    refgene = RefGene(\"/home/sacha/Linux_data/bioinfo/data/ucsc/refGene.txt.gz\")\n",
    "    gene = refgene.gene_by_name(gene)\n",
    "    \n",
    "    # Marge de windows_size * 10 \n",
    "    start = gjb2.start - window_size * 10\n",
    "    end   = gjb2.end   + window_size * 10\n",
    "    \n",
    "    for pos in range(start,end):\n",
    "        \n",
    "        e = entropy(sequence(gene.chrom,pos,pos+window_size))\n",
    "        \n",
    "        print(gene.chrom,pos, pos+window_size, e, sep=\"\\t\")\n",
    "    "
   ]
  },
  {
   "cell_type": "code",
   "execution_count": null,
   "metadata": {},
   "outputs": [],
   "source": []
  },
  {
   "cell_type": "code",
   "execution_count": null,
   "metadata": {
    "collapsed": true
   },
   "outputs": [],
   "source": []
  }
 ],
 "metadata": {
  "kernelspec": {
   "display_name": "Python 3",
   "language": "python",
   "name": "python3"
  },
  "language_info": {
   "codemirror_mode": {
    "name": "ipython",
    "version": 3
   },
   "file_extension": ".py",
   "mimetype": "text/x-python",
   "name": "python",
   "nbconvert_exporter": "python",
   "pygments_lexer": "ipython3",
   "version": "3.6.2"
  }
 },
 "nbformat": 4,
 "nbformat_minor": 2
}
