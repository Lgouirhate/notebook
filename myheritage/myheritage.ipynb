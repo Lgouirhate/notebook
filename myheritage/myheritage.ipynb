{
 "cells": [
  {
   "cell_type": "code",
   "execution_count": 1,
   "metadata": {},
   "outputs": [],
   "source": [
    "import pandas as pd\n",
    "from pybedtools import BedTool\n",
    "from refgene_parser import RefGene\n",
    "import vcf"
   ]
  },
  {
   "cell_type": "markdown",
   "metadata": {},
   "source": [
    "## Téléchargement des positions des Snps de la puce Omniexpress-24 \n",
    "Les coordonnées correspondent au génome de référence hg19   \n",
    "http://emea.support.illumina.com/downloads/infinium-omniexpress-24-v1-2-support-files.html?langsel=/fr/\n"
   ]
  },
  {
   "cell_type": "code",
   "execution_count": 5,
   "metadata": {
    "scrolled": true
   },
   "outputs": [
    {
     "name": "stdout",
     "output_type": "stream",
     "text": [
      "--2019-03-22 12:43:48--  http://emea.support.illumina.com/content/dam/illumina-support/documents/downloads/productfiles/humanomniexpress-24/v1-2/infinium-omniexpress-24-v1-2-a1-bed.zip\n",
      "Résolution de emea.support.illumina.com (emea.support.illumina.com)… 52.16.176.49, 52.31.118.253, 52.215.132.97\n",
      "Connexion à emea.support.illumina.com (emea.support.illumina.com)|52.16.176.49|:80… connecté.\n",
      "requête HTTP transmise, en attente de la réponse… 200 OK\n",
      "Taille : 7511414 (7,2M) [application/zip]\n",
      "Enregistre : «omniexpress.bed.zip»\n",
      "\n",
      "omniexpress.bed.zip 100%[===================>]   7,16M  1,73MB/s    ds 4,3s    \n",
      "\n",
      "2019-03-22 12:43:52 (1,66 MB/s) - «omniexpress.bed.zip» enregistré [7511414/7511414]\n",
      "\n",
      "Archive:  omniexpress.bed.zip\n",
      "  inflating: InfiniumOmniExpress-24v1-2_A1.bed  \n"
     ]
    }
   ],
   "source": [
    "!wget http://emea.support.illumina.com/content/dam/illumina-support/documents/downloads/productfiles/humanomniexpress-24/v1-2/infinium-omniexpress-24-v1-2-a1-bed.zip -O omniexpress.bed.zip\n",
    "!unzip -o omniexpress.bed.zip\n",
    "!mv InfiniumOmniExpress-24v1-2_A1.bed omniexpress.bed"
   ]
  },
  {
   "cell_type": "markdown",
   "metadata": {},
   "source": [
    "## Téléchargement des noms des snps (rs) \n",
    "Certain SNPs sont nommé en VGxxx au lieu de rs.... Il y a un fichier qui fait le mapping de VG vers rs "
   ]
  },
  {
   "cell_type": "code",
   "execution_count": 7,
   "metadata": {},
   "outputs": [
    {
     "name": "stdout",
     "output_type": "stream",
     "text": [
      "--2019-03-22 12:45:33--  http://emea.support.illumina.com/content/dam/illumina-support/documents/downloads/productfiles/humanomniexpress-24/v1-2/infinium-omniexpress-24-v1-2-a1-b144-rsids.zip\n",
      "Résolution de emea.support.illumina.com (emea.support.illumina.com)… 52.31.118.253, 52.16.176.49, 52.215.132.97\n",
      "Connexion à emea.support.illumina.com (emea.support.illumina.com)|52.31.118.253|:80… connecté.\n",
      "requête HTTP transmise, en attente de la réponse… 200 OK\n",
      "Taille : 3373501 (3,2M) [application/zip]\n",
      "Enregistre : «rsids.zip»\n",
      "\n",
      "rsids.zip           100%[===================>]   3,22M   772KB/s    ds 5,0s    \n",
      "\n",
      "2019-03-22 12:45:39 (658 KB/s) - «rsids.zip» enregistré [3373501/3373501]\n",
      "\n",
      "Archive:  rsids.zip\n",
      "  inflating: InfiniumOmniExpress-24v1-2_A1_b144_rsids.txt  \n"
     ]
    }
   ],
   "source": [
    "!wget http://emea.support.illumina.com/content/dam/illumina-support/documents/downloads/productfiles/humanomniexpress-24/v1-2/infinium-omniexpress-24-v1-2-a1-b144-rsids.zip -O rsids.zip\n",
    "!unzip -o rsids.zip \n",
    "!mv InfiniumOmniExpress-24v1-2_A1_b144_rsids.txt rsids.txt\n",
    "    "
   ]
  },
  {
   "cell_type": "markdown",
   "metadata": {},
   "source": [
    "## Télécargement de refgene hg19"
   ]
  },
  {
   "cell_type": "code",
   "execution_count": 18,
   "metadata": {},
   "outputs": [
    {
     "name": "stdout",
     "output_type": "stream",
     "text": [
      "--2019-03-22 12:50:34--  http://hgdownload.cse.ucsc.edu/goldenpath/hg19/database/refGene.txt.gz\n",
      "Résolution de hgdownload.cse.ucsc.edu (hgdownload.cse.ucsc.edu)… 128.114.119.163\n",
      "Connexion à hgdownload.cse.ucsc.edu (hgdownload.cse.ucsc.edu)|128.114.119.163|:80… connecté.\n",
      "requête HTTP transmise, en attente de la réponse… 200 OK\n",
      "Taille : 3974990 (3,8M) [application/x-gzip]\n",
      "Enregistre : «refGene.txt.gz»\n",
      "\n",
      "refGene.txt.gz      100%[===================>]   3,79M   368KB/s    ds 13s     \n",
      "\n",
      "2019-03-22 12:50:48 (295 KB/s) - «refGene.txt.gz» enregistré [3974990/3974990]\n",
      "\n"
     ]
    }
   ],
   "source": [
    "!wget http://hgdownload.cse.ucsc.edu/goldenpath/hg19/database/refGene.txt.gz"
   ]
  },
  {
   "cell_type": "markdown",
   "metadata": {},
   "source": [
    "## Téléchargement de clinvar"
   ]
  },
  {
   "cell_type": "code",
   "execution_count": 59,
   "metadata": {},
   "outputs": [
    {
     "name": "stdout",
     "output_type": "stream",
     "text": [
      "--2019-03-23 11:07:38--  ftp://ftp.ncbi.nlm.nih.gov/pub/clinvar/vcf_GRCh37/clinvar.vcf.gz\n",
      "           => «clinvar.vcf.gz»\n",
      "Résolution de ftp.ncbi.nlm.nih.gov (ftp.ncbi.nlm.nih.gov)… 130.14.250.10, 2607:f220:41e:250::11\n",
      "Connexion à ftp.ncbi.nlm.nih.gov (ftp.ncbi.nlm.nih.gov)|130.14.250.10|:21… connecté.\n",
      "Ouverture de session en tant que anonymous… Session établie.\n",
      "==> SYST ... terminé.    ==> PWD ... terminé.\n",
      "==> TYPE I ... terminé.  ==> CWD (1) /pub/clinvar/vcf_GRCh37 ... terminé.\n",
      "==> SIZE clinvar.vcf.gz ... 18858717\n",
      "==> PASV ... terminé.    ==> RETR clinvar.vcf.gz ... terminé.\n",
      "Taille : 18858717 (18M) (non certifiée)\n",
      "\n",
      "clinvar.vcf.gz      100%[===================>]  17,98M   915KB/s    ds 30s     \n",
      "\n",
      "2019-03-23 11:08:10 (622 KB/s) - «clinvar.vcf.gz» enregistré [18858717]\n",
      "\n"
     ]
    }
   ],
   "source": [
    "!wget ftp://ftp.ncbi.nlm.nih.gov/pub/clinvar/vcf_GRCh37/clinvar.vcf.gz\n",
    "!gzip -d clinvar.vcf.gz"
   ]
  },
  {
   "cell_type": "markdown",
   "metadata": {},
   "source": [
    "## Transformation de clinvar.vcf en datafarame"
   ]
  },
  {
   "cell_type": "code",
   "execution_count": 8,
   "metadata": {},
   "outputs": [
    {
     "data": {
      "text/html": [
       "<div>\n",
       "<style scoped>\n",
       "    .dataframe tbody tr th:only-of-type {\n",
       "        vertical-align: middle;\n",
       "    }\n",
       "\n",
       "    .dataframe tbody tr th {\n",
       "        vertical-align: top;\n",
       "    }\n",
       "\n",
       "    .dataframe thead th {\n",
       "        text-align: right;\n",
       "    }\n",
       "</style>\n",
       "<table border=\"1\" class=\"dataframe\">\n",
       "  <thead>\n",
       "    <tr style=\"text-align: right;\">\n",
       "      <th></th>\n",
       "      <th>chr</th>\n",
       "      <th>start</th>\n",
       "      <th>end</th>\n",
       "      <th>clinsig</th>\n",
       "      <th>clndn</th>\n",
       "      <th>rs</th>\n",
       "      <th>hgvs</th>\n",
       "    </tr>\n",
       "  </thead>\n",
       "  <tbody>\n",
       "    <tr>\n",
       "      <th>0</th>\n",
       "      <td>1</td>\n",
       "      <td>949421</td>\n",
       "      <td>949422</td>\n",
       "      <td>Benign</td>\n",
       "      <td>Immunodeficiency_38_with_basal_ganglia_calcifi...</td>\n",
       "      <td>rs143888043</td>\n",
       "      <td>NC_000001.10:g.949422G&gt;A</td>\n",
       "    </tr>\n",
       "    <tr>\n",
       "      <th>1</th>\n",
       "      <td>1</td>\n",
       "      <td>949501</td>\n",
       "      <td>949502</td>\n",
       "      <td>Uncertain_significance</td>\n",
       "      <td>Immunodeficiency_38_with_basal_ganglia_calcifi...</td>\n",
       "      <td>rs150861311</td>\n",
       "      <td>NC_000001.10:g.949502C&gt;T</td>\n",
       "    </tr>\n",
       "    <tr>\n",
       "      <th>2</th>\n",
       "      <td>1</td>\n",
       "      <td>949522</td>\n",
       "      <td>949523</td>\n",
       "      <td>Pathogenic</td>\n",
       "      <td>Immunodeficiency_38_with_basal_ganglia_calcifi...</td>\n",
       "      <td>rs786201005</td>\n",
       "      <td>NC_000001.10:g.949523C&gt;T</td>\n",
       "    </tr>\n",
       "    <tr>\n",
       "      <th>3</th>\n",
       "      <td>1</td>\n",
       "      <td>949558</td>\n",
       "      <td>949559</td>\n",
       "      <td>Uncertain_significance</td>\n",
       "      <td>Immunodeficiency_38_with_basal_ganglia_calcifi...</td>\n",
       "      <td>rs1553169766</td>\n",
       "      <td>NC_000001.10:g.949559C&gt;T</td>\n",
       "    </tr>\n",
       "    <tr>\n",
       "      <th>4</th>\n",
       "      <td>1</td>\n",
       "      <td>949596</td>\n",
       "      <td>949597</td>\n",
       "      <td>Benign</td>\n",
       "      <td>Immunodeficiency_38_with_basal_ganglia_calcifi...</td>\n",
       "      <td>rs61766284</td>\n",
       "      <td>NC_000001.10:g.949597C&gt;T</td>\n",
       "    </tr>\n",
       "  </tbody>\n",
       "</table>\n",
       "</div>"
      ],
      "text/plain": [
       "  chr   start     end                 clinsig  \\\n",
       "0   1  949421  949422                  Benign   \n",
       "1   1  949501  949502  Uncertain_significance   \n",
       "2   1  949522  949523              Pathogenic   \n",
       "3   1  949558  949559  Uncertain_significance   \n",
       "4   1  949596  949597                  Benign   \n",
       "\n",
       "                                               clndn            rs  \\\n",
       "0  Immunodeficiency_38_with_basal_ganglia_calcifi...   rs143888043   \n",
       "1  Immunodeficiency_38_with_basal_ganglia_calcifi...   rs150861311   \n",
       "2  Immunodeficiency_38_with_basal_ganglia_calcifi...   rs786201005   \n",
       "3  Immunodeficiency_38_with_basal_ganglia_calcifi...  rs1553169766   \n",
       "4  Immunodeficiency_38_with_basal_ganglia_calcifi...    rs61766284   \n",
       "\n",
       "                       hgvs  \n",
       "0  NC_000001.10:g.949422G>A  \n",
       "1  NC_000001.10:g.949502C>T  \n",
       "2  NC_000001.10:g.949523C>T  \n",
       "3  NC_000001.10:g.949559C>T  \n",
       "4  NC_000001.10:g.949597C>T  "
      ]
     },
     "execution_count": 8,
     "metadata": {},
     "output_type": "execute_result"
    }
   ],
   "source": [
    "data = []\n",
    "vcf_reader = vcf.Reader(open('clinvar.vcf', 'r'))\n",
    "for variant in vcf_reader:\n",
    "    # On récupere que les snps \n",
    "    if variant.INFO[\"CLNVC\"] == \"single_nucleotide_variant\":\n",
    "        \n",
    "\n",
    "        \n",
    "        data.append((variant.CHROM,\n",
    "                     variant.start,\n",
    "                     variant.end, \n",
    "                     \",\".join(variant.INFO.get(\"CLNSIG\",[])),\n",
    "                     \",\".join(variant.INFO.get(\"CLNDN\",[])),\n",
    "                     \"rs\" + \"\".join(variant.INFO.get(\"RS\",[])),\n",
    "                      \"\".join(variant.INFO.get(\"CLNHGVS\",[]))\n",
    "\n",
    "\n",
    "                    ))\n",
    "    \n",
    "    \n",
    "clinvar = pd.DataFrame(data)\n",
    "clinvar.columns = [\"chr\",\"start\",\"end\",\"clinsig\",\"clndn\",\"rs\",\"hgvs\"]\n",
    "clinvar.head()\n",
    "\n"
   ]
  },
  {
   "cell_type": "markdown",
   "metadata": {},
   "source": [
    "## Intersection entre clinvar et omniExpress via le rsid"
   ]
  },
  {
   "cell_type": "code",
   "execution_count": 9,
   "metadata": {
    "scrolled": true
   },
   "outputs": [],
   "source": [
    "omni_rs = pd.read_csv(\"rsids.txt\",sep=\"\\t\")[\"RsID\"]\n",
    "omni_clinvar = clinvar[clinvar.rs.isin(omni_rs)]"
   ]
  },
  {
   "cell_type": "markdown",
   "metadata": {},
   "source": [
    "## Garder que les snps pathogene"
   ]
  },
  {
   "cell_type": "code",
   "execution_count": 36,
   "metadata": {},
   "outputs": [
    {
     "name": "stdout",
     "output_type": "stream",
     "text": [
      "total pathogene 100\n"
     ]
    }
   ],
   "source": [
    "omni_clinvar_pathogene = omni_clinvar[omni_clinvar.clinsig == \"Pathogenic\"]\n",
    "print(\"total pathogene\", len(omni_clinvar_pathogene.rs.unique()))\n",
    "omni_clinvar_pathogene.to_csv(\"pathogene.csv\")"
   ]
  },
  {
   "cell_type": "code",
   "execution_count": 39,
   "metadata": {},
   "outputs": [],
   "source": [
    "omni_clinvar_pathogene[[\"clndn\",\"rs\"]].to_csv(\"pathogene_clean.csv\")"
   ]
  },
  {
   "cell_type": "markdown",
   "metadata": {},
   "source": [
    "## Maladies associées "
   ]
  },
  {
   "cell_type": "code",
   "execution_count": 66,
   "metadata": {},
   "outputs": [],
   "source": [
    "# Export pour le blog \n",
    "import json\n",
    "data = []\n",
    "for i in omni_clinvar_pathogene[[\"clndn\",\"rs\"]].iterrows():\n",
    "    data.append([i[1][\"clndn\"],i[1][\"rs\"]])\n",
    "\n",
    "with open(\"/home/schutz/Dev/blog/output/test.json\", \"w\") as file:\n",
    "    file.write(json.dumps({\"data\":data}))\n",
    "\n"
   ]
  },
  {
   "cell_type": "code",
   "execution_count": 35,
   "metadata": {},
   "outputs": [
    {
     "data": {
      "text/plain": [
       "array(['Familial_hypercholesterolemia',\n",
       "       'Medium-chain_acyl-coenzyme_A_dehydrogenase_deficiency',\n",
       "       'Medium-chain_acyl-coenzyme_A_dehydrogenase_deficiency|not_provided',\n",
       "       'Congenital_sensory_neuropathy_with_selective_loss_of_small_myelinated_fibers',\n",
       "       'Hemochromatosis_type_2A|Hemochromatosis_type_1',\n",
       "       \"Gaucher's_disease,_type_1\", 'Prostate_cancer,_hereditary,_12',\n",
       "       'not_provided', 'Lucey-Driscoll_syndrome',\n",
       "       'Distal_myopathy,_Tateyama_type', 'Achondroplasia',\n",
       "       'Ciliary_dyskinesia,_primary,_3',\n",
       "       'Sandhoff_disease,_infantile_type',\n",
       "       'Bifunctional_peroxisomal_enzyme_deficiency',\n",
       "       'Cancer_progression_and_tumor_cell_motility',\n",
       "       'Factor_XIII_subunit_A_deficiency',\n",
       "       'Inborn_genetic_diseases|Classic_congenital_adrenal_hyperplasia_due_to_21-hydroxylase_deficiency|not_provided',\n",
       "       'Glycogen_storage_disease_type_X|not_provided', 'Cystic_fibrosis',\n",
       "       'Cystic_fibrosis|not_provided',\n",
       "       'Cystic_fibrosis|Hereditary_pancreatitis|Congenital_bilateral_absence_of_the_vas_deferens|ivacaftor_response_-_Efficacy|not_provided',\n",
       "       'Cystic_fibrosis|Hereditary_pancreatitis|not_provided',\n",
       "       'Inborn_genetic_diseases|Cystic_fibrosis|not_provided',\n",
       "       'Cystic_fibrosis|not_specified',\n",
       "       'Cystic_fibrosis|not_specified|not_provided',\n",
       "       'Cystic_fibrosis|Hereditary_pancreatitis|ivacaftor_response_-_Efficacy|not_provided',\n",
       "       'Cystic_fibrosis|Hereditary_pancreatitis|not_specified|not_provided',\n",
       "       'Inborn_genetic_diseases|Cystic_fibrosis|ataluren_response_-_Efficacy|not_provided',\n",
       "       'Congenital_heart_disease',\n",
       "       'Autosomal_dominant_nocturnal_frontal_lobe_epilepsy',\n",
       "       'Achromatopsia_3', 'Thrombocythemia_3',\n",
       "       'Budd-Chiari_syndrome,_susceptibility_to,_somatic|Budd-Chiari_syndrome|Acute_myeloid_leukemia|Chronic_myelogenous_leukemia|Myeloproliferative_disorder|Myelofibrosis|Polycythemia_vera|Subacute_lymphoid_leukemia|Familial_erythrocytosis,_1|Thrombocythemia_3',\n",
       "       'Hereditary_fructosuria|not_provided',\n",
       "       'Mannose-binding_protein_deficiency', 'Preeclampsia/eclampsia_4',\n",
       "       'beta_Thalassemia|Beta-plus-thalassemia|not_specified|not_provided',\n",
       "       'beta_Thalassemia|beta^0^_Thalassemia|not_specified|not_provided',\n",
       "       'Beta_thalassemia_major|beta_Thalassemia|Beta-plus-thalassemia|not_specified',\n",
       "       'Beta_thalassemia_major|Beta-plus-thalassemia|not_specified|not_provided',\n",
       "       'beta_Thalassemia|Beta-plus-thalassemia|not_provided',\n",
       "       'beta_Thalassemia|Beta_thalassemia_intermedia|Beta-plus-thalassemia',\n",
       "       'Delta-0-thalassemia',\n",
       "       'HEMOGLOBIN_A(2)_YIALOUSA|delta_Thalassemia|not_provided',\n",
       "       'Sveinsson_chorioretinal_atrophy', 'Carcinoma_of_colon',\n",
       "       'APOLIPOPROTEIN_A-IV_POLYMORPHISM,_APOA4*1/APOA4*2',\n",
       "       'TNF_receptor-associated_periodic_fever_syndrome_(TRAPS)',\n",
       "       'Okt4_epitope_deficiency', 'Phenylketonuria|not_provided',\n",
       "       'Inborn_genetic_diseases|Phenylketonuria|not_provided',\n",
       "       'Hyperphenylalaninemia,_non-pku|Phenylketonuria|not_provided',\n",
       "       'Hereditary_breast_and_ovarian_cancer_syndrome|Familial_cancer_of_breast|Hereditary_cancer-predisposing_syndrome|Fanconi_anemia,_complementation_group_D1|Breast-ovarian_cancer,_familial_2|Breast_and/or_ovarian_cancer|not_provided',\n",
       "       'Hereditary_breast_and_ovarian_cancer_syndrome|Familial_cancer_of_breast|Hereditary_cancer-predisposing_syndrome|Breast-ovarian_cancer,_familial_2|not_provided',\n",
       "       'Wilson_disease|not_provided', 'Aromatase_deficiency',\n",
       "       'Spongy_degeneration_of_central_nervous_system|Canavan_Disease,_Familial_Form|not_provided',\n",
       "       'Very_long_chain_acyl-CoA_dehydrogenase_deficiency|not_provided',\n",
       "       'Li-Fraumeni_syndrome_1|Li-Fraumeni_syndrome',\n",
       "       'Jaundice|Erythema|Erythropoietic_protoporphyria',\n",
       "       'Spastic_paraplegia_75,_autosomal_recessive',\n",
       "       'Idiopathic_hypercalcemia_of_infancy',\n",
       "       'HYPERHOMOCYSTEINEMIA,_THROMBOTIC,_CBS-RELATED|Homocystinuria|Homocystinuria_due_to_CBS_deficiency|Homocystinuria,_pyridoxine-responsive|not_specified|Cardiovascular_phenotype|not_provided',\n",
       "       'Thyroxine-binding_globulin,_variant_P',\n",
       "       'Parkinson_disease,_late-onset',\n",
       "       'G6PD_ANANT|G6PD_DHON|G6PD_KAIPING|G6PD_PETRICH-LIKE|G6PD_SAPPORO-LIKE|Anemia,_nonspherocytic_hemolytic,_due_to_G6PD_deficiency|not_specified',\n",
       "       'G6PD_ORISSA|Anemia,_nonspherocytic_hemolytic,_due_to_G6PD_deficiency'],\n",
       "      dtype=object)"
      ]
     },
     "execution_count": 35,
     "metadata": {},
     "output_type": "execute_result"
    }
   ],
   "source": [
    "omni_clinvar_pathogene.clndn.unique()"
   ]
  },
  {
   "cell_type": "markdown",
   "metadata": {},
   "source": []
  },
  {
   "cell_type": "code",
   "execution_count": null,
   "metadata": {},
   "outputs": [],
   "source": []
  },
  {
   "cell_type": "code",
   "execution_count": null,
   "metadata": {},
   "outputs": [],
   "source": []
  }
 ],
 "metadata": {
  "kernelspec": {
   "display_name": "Python 3",
   "language": "python",
   "name": "python3"
  },
  "language_info": {
   "codemirror_mode": {
    "name": "ipython",
    "version": 3
   },
   "file_extension": ".py",
   "mimetype": "text/x-python",
   "name": "python",
   "nbconvert_exporter": "python",
   "pygments_lexer": "ipython3",
   "version": "3.6.7"
  }
 },
 "nbformat": 4,
 "nbformat_minor": 2
}
